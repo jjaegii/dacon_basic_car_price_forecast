{
 "cells": [
  {
   "attachments": {},
   "cell_type": "markdown",
   "metadata": {},
   "source": [
    "### import"
   ]
  },
  {
   "cell_type": "code",
   "execution_count": 1,
   "metadata": {},
   "outputs": [],
   "source": [
    "import pandas as pd\n",
    "import random\n",
    "import os\n",
    "import numpy as np\n",
    "\n",
    "from sklearn.preprocessing import LabelEncoder\n",
    "from sklearn.model_selection import train_test_split\n",
    "from sklearn.metrics import mean_absolute_error\n",
    "from sklearn.model_selection import GridSearchCV\n",
    "import lightgbm as lgb"
   ]
  },
  {
   "attachments": {},
   "cell_type": "markdown",
   "metadata": {},
   "source": [
    "### Fixed RandomSeed"
   ]
  },
  {
   "cell_type": "code",
   "execution_count": 2,
   "metadata": {},
   "outputs": [],
   "source": [
    "def seed_everything(seed):\n",
    "    random.seed(seed)\n",
    "    os.environ['PYTHONHASHSEED'] = str(seed)\n",
    "    np.random.seed(seed)\n",
    "\n",
    "seed_everything(42) # Seed 고정"
   ]
  },
  {
   "attachments": {},
   "cell_type": "markdown",
   "metadata": {},
   "source": [
    "### Data Load"
   ]
  },
  {
   "cell_type": "code",
   "execution_count": 3,
   "metadata": {},
   "outputs": [],
   "source": [
    "train = pd.read_csv('train.csv')\n",
    "test = pd.read_csv('test.csv')"
   ]
  },
  {
   "cell_type": "code",
   "execution_count": 4,
   "metadata": {},
   "outputs": [
    {
     "data": {
      "text/html": [
       "<div>\n",
       "<style scoped>\n",
       "    .dataframe tbody tr th:only-of-type {\n",
       "        vertical-align: middle;\n",
       "    }\n",
       "\n",
       "    .dataframe tbody tr th {\n",
       "        vertical-align: top;\n",
       "    }\n",
       "\n",
       "    .dataframe thead th {\n",
       "        text-align: right;\n",
       "    }\n",
       "</style>\n",
       "<table border=\"1\" class=\"dataframe\">\n",
       "  <thead>\n",
       "    <tr style=\"text-align: right;\">\n",
       "      <th></th>\n",
       "      <th>ID</th>\n",
       "      <th>생산년도</th>\n",
       "      <th>모델출시년도</th>\n",
       "      <th>브랜드</th>\n",
       "      <th>차량모델명</th>\n",
       "      <th>판매도시</th>\n",
       "      <th>판매구역</th>\n",
       "      <th>주행거리</th>\n",
       "      <th>배기량</th>\n",
       "      <th>압축천연가스(CNG)</th>\n",
       "      <th>경유</th>\n",
       "      <th>가솔린</th>\n",
       "      <th>하이브리드</th>\n",
       "      <th>액화석유가스(LPG)</th>\n",
       "      <th>가격</th>\n",
       "    </tr>\n",
       "  </thead>\n",
       "  <tbody>\n",
       "    <tr>\n",
       "      <th>0</th>\n",
       "      <td>TRAIN_00000</td>\n",
       "      <td>2018</td>\n",
       "      <td>2014</td>\n",
       "      <td>skoda</td>\n",
       "      <td>fabia</td>\n",
       "      <td>KAT</td>\n",
       "      <td>SLA</td>\n",
       "      <td>85231</td>\n",
       "      <td>999</td>\n",
       "      <td>0</td>\n",
       "      <td>0</td>\n",
       "      <td>1</td>\n",
       "      <td>0</td>\n",
       "      <td>0</td>\n",
       "      <td>51.74</td>\n",
       "    </tr>\n",
       "    <tr>\n",
       "      <th>1</th>\n",
       "      <td>TRAIN_00001</td>\n",
       "      <td>2010</td>\n",
       "      <td>2006</td>\n",
       "      <td>toyota</td>\n",
       "      <td>auris</td>\n",
       "      <td>RKO</td>\n",
       "      <td>SWI</td>\n",
       "      <td>135000</td>\n",
       "      <td>1598</td>\n",
       "      <td>0</td>\n",
       "      <td>0</td>\n",
       "      <td>1</td>\n",
       "      <td>0</td>\n",
       "      <td>0</td>\n",
       "      <td>41.47</td>\n",
       "    </tr>\n",
       "    <tr>\n",
       "      <th>2</th>\n",
       "      <td>TRAIN_00002</td>\n",
       "      <td>2002</td>\n",
       "      <td>2002</td>\n",
       "      <td>mercedes-benz</td>\n",
       "      <td>clk-klasa</td>\n",
       "      <td>GNI</td>\n",
       "      <td>WIE</td>\n",
       "      <td>255223</td>\n",
       "      <td>1796</td>\n",
       "      <td>0</td>\n",
       "      <td>0</td>\n",
       "      <td>1</td>\n",
       "      <td>0</td>\n",
       "      <td>0</td>\n",
       "      <td>17.81</td>\n",
       "    </tr>\n",
       "    <tr>\n",
       "      <th>3</th>\n",
       "      <td>TRAIN_00003</td>\n",
       "      <td>2006</td>\n",
       "      <td>2001</td>\n",
       "      <td>nissan</td>\n",
       "      <td>x-trail</td>\n",
       "      <td>EHX</td>\n",
       "      <td>WIE</td>\n",
       "      <td>238000</td>\n",
       "      <td>2184</td>\n",
       "      <td>0</td>\n",
       "      <td>1</td>\n",
       "      <td>0</td>\n",
       "      <td>0</td>\n",
       "      <td>0</td>\n",
       "      <td>18.20</td>\n",
       "    </tr>\n",
       "    <tr>\n",
       "      <th>4</th>\n",
       "      <td>TRAIN_00004</td>\n",
       "      <td>2007</td>\n",
       "      <td>2007</td>\n",
       "      <td>fiat</td>\n",
       "      <td>bravo</td>\n",
       "      <td>OSW</td>\n",
       "      <td>MAL</td>\n",
       "      <td>251000</td>\n",
       "      <td>1910</td>\n",
       "      <td>0</td>\n",
       "      <td>1</td>\n",
       "      <td>0</td>\n",
       "      <td>0</td>\n",
       "      <td>0</td>\n",
       "      <td>17.55</td>\n",
       "    </tr>\n",
       "  </tbody>\n",
       "</table>\n",
       "</div>"
      ],
      "text/plain": [
       "            ID  생산년도  모델출시년도            브랜드      차량모델명 판매도시 판매구역    주행거리  \\\n",
       "0  TRAIN_00000  2018    2014          skoda      fabia  KAT  SLA   85231   \n",
       "1  TRAIN_00001  2010    2006         toyota      auris  RKO  SWI  135000   \n",
       "2  TRAIN_00002  2002    2002  mercedes-benz  clk-klasa  GNI  WIE  255223   \n",
       "3  TRAIN_00003  2006    2001         nissan    x-trail  EHX  WIE  238000   \n",
       "4  TRAIN_00004  2007    2007           fiat      bravo  OSW  MAL  251000   \n",
       "\n",
       "    배기량  압축천연가스(CNG)  경유  가솔린  하이브리드  액화석유가스(LPG)     가격  \n",
       "0   999            0   0    1      0            0  51.74  \n",
       "1  1598            0   0    1      0            0  41.47  \n",
       "2  1796            0   0    1      0            0  17.81  \n",
       "3  2184            0   1    0      0            0  18.20  \n",
       "4  1910            0   1    0      0            0  17.55  "
      ]
     },
     "execution_count": 4,
     "metadata": {},
     "output_type": "execute_result"
    }
   ],
   "source": [
    "train.head()"
   ]
  },
  {
   "attachments": {},
   "cell_type": "markdown",
   "metadata": {},
   "source": [
    "### Split"
   ]
  },
  {
   "cell_type": "code",
   "execution_count": 5,
   "metadata": {},
   "outputs": [],
   "source": [
    "train_x = train.drop(['ID', '가격'], axis = 1)\n",
    "train_y = train['가격']\n",
    "\n",
    "test_x = test.drop('ID', axis = 1)"
   ]
  },
  {
   "attachments": {},
   "cell_type": "markdown",
   "metadata": {},
   "source": [
    "### Data Processing"
   ]
  },
  {
   "cell_type": "code",
   "execution_count": 6,
   "metadata": {},
   "outputs": [],
   "source": [
    "ordinal_features = ['브랜드', '차량모델명', '판매도시', '판매구역']\n",
    "\n",
    "for feature in ordinal_features:\n",
    "    le = LabelEncoder()\n",
    "    le = le.fit(train_x[feature])\n",
    "    train_x[feature] = le.transform(train_x[feature])\n",
    "\n",
    "    # train데이터에서 존재하지 않았던 값이 test 데이터에 존재할 수도 있습니다.\n",
    "    # 따라서 test 데이터를 바로 변형시키지 않고 고유값을 확인후 test 데이터를 변환합니다.\n",
    "    # Data Leakage를 발생시키지 않기 위함이니, 반드시 주의해주세요.\n",
    "    for label in np.unique(test_x[feature]):\n",
    "        if label not in le.classes_:\n",
    "            le.classes_ = np.append(le.classes_, label)\n",
    "    test_x[feature] = le.transform(test_x[feature])"
   ]
  },
  {
   "attachments": {},
   "cell_type": "markdown",
   "metadata": {},
   "source": [
    "### Train-Validation Split"
   ]
  },
  {
   "cell_type": "code",
   "execution_count": 7,
   "metadata": {},
   "outputs": [],
   "source": [
    "X_train, X_val, y_train, y_val = train_test_split(train_x, train_y, test_size=0.2, random_state=42)"
   ]
  },
  {
   "attachments": {},
   "cell_type": "markdown",
   "metadata": {},
   "source": [
    "### LightGBM 데이터셋으로 변환"
   ]
  },
  {
   "cell_type": "code",
   "execution_count": 8,
   "metadata": {},
   "outputs": [],
   "source": [
    "train_data = lgb.Dataset(X_train, label=y_train)"
   ]
  },
  {
   "attachments": {},
   "cell_type": "markdown",
   "metadata": {},
   "source": [
    "### Set hyper-parameter grid"
   ]
  },
  {
   "cell_type": "code",
   "execution_count": 9,
   "metadata": {},
   "outputs": [],
   "source": [
    "param_grid = {\n",
    "    'num_leaves': [31, 50, 100],\n",
    "    'learning_rate': [0.05, 0.1, 0.2],\n",
    "    'n_estimators': [100, 200, 300],\n",
    "    'reg_alpha': [0, 1, 2],\n",
    "    'reg_lambda': [0, 1, 2]\n",
    "}"
   ]
  },
  {
   "attachments": {},
   "cell_type": "markdown",
   "metadata": {},
   "source": [
    "### LightGBM 모델 생성"
   ]
  },
  {
   "cell_type": "code",
   "execution_count": 10,
   "metadata": {},
   "outputs": [],
   "source": [
    "lgb_model = lgb.LGBMRegressor()"
   ]
  },
  {
   "attachments": {},
   "cell_type": "markdown",
   "metadata": {},
   "source": [
    "### 그리드 서치를 사용한 하이퍼파라미터 튜닝"
   ]
  },
  {
   "cell_type": "code",
   "execution_count": 11,
   "metadata": {},
   "outputs": [],
   "source": [
    "grid_search = GridSearchCV(estimator=lgb_model, param_grid=param_grid, cv=3, scoring='neg_mean_absolute_error')\n",
    "grid_search.fit(X_train, y_train)"
   ]
  },
  {
   "attachments": {},
   "cell_type": "markdown",
   "metadata": {},
   "source": [
    "### 최적의 하이퍼파라미터 출력"
   ]
  },
  {
   "cell_type": "code",
   "execution_count": null,
   "metadata": {},
   "outputs": [],
   "source": [
    "print(\"Best Hyperparameters:\", grid_search.best_params_)"
   ]
  },
  {
   "attachments": {},
   "cell_type": "markdown",
   "metadata": {},
   "source": [
    "### 최적의 모델로 재학습"
   ]
  },
  {
   "cell_type": "code",
   "execution_count": 10,
   "metadata": {},
   "outputs": [
    {
     "name": "stderr",
     "output_type": "stream",
     "text": [
      "/home/jjaegii/dacon/venv/lib/python3.8/site-packages/lightgbm/engine.py:181: UserWarning: 'early_stopping_rounds' argument is deprecated and will be removed in a future release of LightGBM. Pass 'early_stopping()' callback via 'callbacks' argument instead.\n",
      "  _log_warning(\"'early_stopping_rounds' argument is deprecated and will be removed in a future release of LightGBM. \"\n"
     ]
    },
    {
     "name": "stdout",
     "output_type": "stream",
     "text": [
      "[LightGBM] [Warning] Auto-choosing col-wise multi-threading, the overhead of testing was 0.005335 seconds.\n",
      "You can set `force_col_wise=true` to remove the overhead.\n",
      "[1]\ttraining's l2: 1062.4\tvalid_1's l2: 1064.3\n",
      "Training until validation scores don't improve for 10 rounds\n",
      "[2]\ttraining's l2: 907.199\tvalid_1's l2: 909.491\n",
      "[3]\ttraining's l2: 784.253\tvalid_1's l2: 786.375\n",
      "[4]\ttraining's l2: 677.037\tvalid_1's l2: 679.805\n",
      "[5]\ttraining's l2: 588.981\tvalid_1's l2: 592.103\n",
      "[6]\ttraining's l2: 516.275\tvalid_1's l2: 519.51\n",
      "[7]\ttraining's l2: 456.502\tvalid_1's l2: 459.773\n",
      "[8]\ttraining's l2: 406.336\tvalid_1's l2: 410.4\n",
      "[9]\ttraining's l2: 365.9\tvalid_1's l2: 370.195\n",
      "[10]\ttraining's l2: 331.588\tvalid_1's l2: 336.469\n",
      "[11]\ttraining's l2: 302.915\tvalid_1's l2: 307.799\n",
      "[12]\ttraining's l2: 278.272\tvalid_1's l2: 282.772\n",
      "[13]\ttraining's l2: 257.305\tvalid_1's l2: 261.883\n",
      "[14]\ttraining's l2: 240.284\tvalid_1's l2: 244.998\n",
      "[15]\ttraining's l2: 225.593\tvalid_1's l2: 230.703\n",
      "[16]\ttraining's l2: 213.048\tvalid_1's l2: 218.346\n",
      "[17]\ttraining's l2: 202.451\tvalid_1's l2: 207.596\n",
      "[18]\ttraining's l2: 193.311\tvalid_1's l2: 198.476\n",
      "[19]\ttraining's l2: 184.712\tvalid_1's l2: 189.928\n",
      "[20]\ttraining's l2: 178.047\tvalid_1's l2: 183.256\n",
      "[21]\ttraining's l2: 171.251\tvalid_1's l2: 176.446\n",
      "[22]\ttraining's l2: 165.271\tvalid_1's l2: 170.44\n",
      "[23]\ttraining's l2: 160.023\tvalid_1's l2: 165.19\n",
      "[24]\ttraining's l2: 155.398\tvalid_1's l2: 160.717\n",
      "[25]\ttraining's l2: 151.648\tvalid_1's l2: 156.99\n",
      "[26]\ttraining's l2: 148.543\tvalid_1's l2: 154\n",
      "[27]\ttraining's l2: 145.776\tvalid_1's l2: 151.269\n",
      "[28]\ttraining's l2: 142.458\tvalid_1's l2: 148.067\n",
      "[29]\ttraining's l2: 139.703\tvalid_1's l2: 145.447\n",
      "[30]\ttraining's l2: 137.413\tvalid_1's l2: 143.243\n",
      "[31]\ttraining's l2: 134.817\tvalid_1's l2: 140.702\n",
      "[32]\ttraining's l2: 132.814\tvalid_1's l2: 138.775\n",
      "[33]\ttraining's l2: 130.132\tvalid_1's l2: 136.167\n",
      "[34]\ttraining's l2: 128.437\tvalid_1's l2: 134.57\n",
      "[35]\ttraining's l2: 126.682\tvalid_1's l2: 132.859\n",
      "[36]\ttraining's l2: 124.987\tvalid_1's l2: 131.294\n",
      "[37]\ttraining's l2: 123.735\tvalid_1's l2: 130.186\n",
      "[38]\ttraining's l2: 122.277\tvalid_1's l2: 128.894\n",
      "[39]\ttraining's l2: 121.258\tvalid_1's l2: 127.968\n",
      "[40]\ttraining's l2: 120.147\tvalid_1's l2: 127.091\n",
      "[41]\ttraining's l2: 118.642\tvalid_1's l2: 125.634\n",
      "[42]\ttraining's l2: 117.592\tvalid_1's l2: 124.587\n",
      "[43]\ttraining's l2: 116.495\tvalid_1's l2: 123.671\n",
      "[44]\ttraining's l2: 115.461\tvalid_1's l2: 122.817\n",
      "[45]\ttraining's l2: 114.465\tvalid_1's l2: 121.876\n",
      "[46]\ttraining's l2: 113.789\tvalid_1's l2: 121.247\n",
      "[47]\ttraining's l2: 112.791\tvalid_1's l2: 120.288\n",
      "[48]\ttraining's l2: 111.695\tvalid_1's l2: 119.251\n",
      "[49]\ttraining's l2: 110.935\tvalid_1's l2: 118.602\n",
      "[50]\ttraining's l2: 110.347\tvalid_1's l2: 118.034\n",
      "[51]\ttraining's l2: 109.447\tvalid_1's l2: 117.214\n",
      "[52]\ttraining's l2: 108.621\tvalid_1's l2: 116.367\n",
      "[53]\ttraining's l2: 107.256\tvalid_1's l2: 115.211\n",
      "[54]\ttraining's l2: 106.766\tvalid_1's l2: 114.892\n",
      "[55]\ttraining's l2: 106.306\tvalid_1's l2: 114.531\n",
      "[56]\ttraining's l2: 105.304\tvalid_1's l2: 113.622\n",
      "[57]\ttraining's l2: 104.495\tvalid_1's l2: 112.822\n",
      "[58]\ttraining's l2: 103.786\tvalid_1's l2: 112.253\n",
      "[59]\ttraining's l2: 103.285\tvalid_1's l2: 111.727\n",
      "[60]\ttraining's l2: 102.51\tvalid_1's l2: 111.02\n",
      "[61]\ttraining's l2: 101.932\tvalid_1's l2: 110.479\n",
      "[62]\ttraining's l2: 101.59\tvalid_1's l2: 110.284\n",
      "[63]\ttraining's l2: 101.243\tvalid_1's l2: 109.982\n",
      "[64]\ttraining's l2: 100.556\tvalid_1's l2: 109.369\n",
      "[65]\ttraining's l2: 100.205\tvalid_1's l2: 109.06\n",
      "[66]\ttraining's l2: 99.8832\tvalid_1's l2: 108.898\n",
      "[67]\ttraining's l2: 99.3959\tvalid_1's l2: 108.48\n",
      "[68]\ttraining's l2: 98.9697\tvalid_1's l2: 108.192\n",
      "[69]\ttraining's l2: 98.495\tvalid_1's l2: 107.78\n",
      "[70]\ttraining's l2: 98.0293\tvalid_1's l2: 107.326\n",
      "[71]\ttraining's l2: 97.5676\tvalid_1's l2: 106.977\n",
      "[72]\ttraining's l2: 97.1336\tvalid_1's l2: 106.657\n",
      "[73]\ttraining's l2: 96.6874\tvalid_1's l2: 106.312\n",
      "[74]\ttraining's l2: 96.3303\tvalid_1's l2: 106.033\n",
      "[75]\ttraining's l2: 96.093\tvalid_1's l2: 105.934\n",
      "[76]\ttraining's l2: 95.5919\tvalid_1's l2: 105.495\n",
      "[77]\ttraining's l2: 95.1481\tvalid_1's l2: 105.077\n",
      "[78]\ttraining's l2: 94.8712\tvalid_1's l2: 104.923\n",
      "[79]\ttraining's l2: 94.6541\tvalid_1's l2: 104.737\n",
      "[80]\ttraining's l2: 94.4623\tvalid_1's l2: 104.641\n",
      "[81]\ttraining's l2: 94.0324\tvalid_1's l2: 104.22\n",
      "[82]\ttraining's l2: 93.7836\tvalid_1's l2: 104.072\n",
      "[83]\ttraining's l2: 93.3101\tvalid_1's l2: 103.486\n",
      "[84]\ttraining's l2: 93.1188\tvalid_1's l2: 103.35\n",
      "[85]\ttraining's l2: 92.7627\tvalid_1's l2: 103.082\n",
      "[86]\ttraining's l2: 92.3906\tvalid_1's l2: 102.761\n",
      "[87]\ttraining's l2: 92.1705\tvalid_1's l2: 102.63\n",
      "[88]\ttraining's l2: 91.8778\tvalid_1's l2: 102.439\n",
      "[89]\ttraining's l2: 91.6089\tvalid_1's l2: 102.192\n",
      "[90]\ttraining's l2: 91.3373\tvalid_1's l2: 102.032\n",
      "[91]\ttraining's l2: 91.0657\tvalid_1's l2: 101.73\n",
      "[92]\ttraining's l2: 90.8237\tvalid_1's l2: 101.607\n",
      "[93]\ttraining's l2: 90.6289\tvalid_1's l2: 101.509\n",
      "[94]\ttraining's l2: 90.2256\tvalid_1's l2: 101.146\n",
      "[95]\ttraining's l2: 89.985\tvalid_1's l2: 100.858\n",
      "[96]\ttraining's l2: 89.7403\tvalid_1's l2: 100.735\n",
      "[97]\ttraining's l2: 89.337\tvalid_1's l2: 100.317\n",
      "[98]\ttraining's l2: 89.0363\tvalid_1's l2: 100.046\n",
      "[99]\ttraining's l2: 88.8058\tvalid_1's l2: 99.8259\n",
      "[100]\ttraining's l2: 88.6242\tvalid_1's l2: 99.7922\n",
      "Did not meet early stopping. Best iteration is:\n",
      "[100]\ttraining's l2: 88.6242\tvalid_1's l2: 99.7922\n"
     ]
    }
   ],
   "source": [
    "best_model = grid_search.best_estimator_\n",
    "best_model.fit(X_train, y_train)"
   ]
  },
  {
   "attachments": {},
   "cell_type": "markdown",
   "metadata": {},
   "source": [
    "### 검증 데이터에 대한 예측 수행 및 평가 지표 출력"
   ]
  },
  {
   "cell_type": "code",
   "execution_count": null,
   "metadata": {},
   "outputs": [],
   "source": [
    "y_pred = best_model.predict(X_val)\n",
    "\n",
    "mae = mean_absolute_error(y_val, y_pred)\n",
    "print(\"Mean Absolute Error:\", mae)"
   ]
  },
  {
   "attachments": {},
   "cell_type": "markdown",
   "metadata": {},
   "source": [
    "### Inference & Submit"
   ]
  },
  {
   "cell_type": "code",
   "execution_count": 10,
   "metadata": {},
   "outputs": [],
   "source": [
    "preds = best_model.predict(test_x)"
   ]
  },
  {
   "cell_type": "code",
   "execution_count": 12,
   "metadata": {},
   "outputs": [],
   "source": [
    "submission = pd.read_csv('sample_submission.csv')\n",
    "submission['가격'] = preds\n",
    "submission.to_csv('./baseline_submit.csv', index = False)"
   ]
  }
 ],
 "metadata": {
  "kernelspec": {
   "display_name": "venv",
   "language": "python",
   "name": "python3"
  },
  "language_info": {
   "codemirror_mode": {
    "name": "ipython",
    "version": 3
   },
   "file_extension": ".py",
   "mimetype": "text/x-python",
   "name": "python",
   "nbconvert_exporter": "python",
   "pygments_lexer": "ipython3",
   "version": "3.8.10"
  },
  "orig_nbformat": 4
 },
 "nbformat": 4,
 "nbformat_minor": 2
}
