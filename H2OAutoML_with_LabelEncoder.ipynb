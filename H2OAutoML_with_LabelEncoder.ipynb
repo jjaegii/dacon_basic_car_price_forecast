{
  "cells": [
    {
      "attachments": {},
      "cell_type": "markdown",
      "metadata": {},
      "source": [
        "reference : https://dacon.io/competitions/official/236093/codeshare/8182?page=1&dtype=recent"
      ]
    },
    {
      "cell_type": "code",
      "execution_count": 16,
      "metadata": {},
      "outputs": [],
      "source": [
        "import h2o\n",
        "import pandas as pd\n",
        "import numpy as np\n",
        "from sklearn.preprocessing import LabelEncoder"
      ]
    },
    {
      "cell_type": "code",
      "execution_count": 27,
      "metadata": {},
      "outputs": [],
      "source": [
        "train = pd.read_csv('train.csv')\n",
        "test = pd.read_csv('test.csv')"
      ]
    },
    {
      "cell_type": "code",
      "execution_count": 28,
      "metadata": {},
      "outputs": [],
      "source": [
        "train = train.drop('ID', axis = 1)\n",
        "test = test.drop('ID', axis = 1)"
      ]
    },
    {
      "cell_type": "code",
      "execution_count": 29,
      "metadata": {},
      "outputs": [],
      "source": [
        "ordinal_features = ['브랜드', '차량모델명', '판매도시', '판매구역']\n",
        "\n",
        "for feature in ordinal_features:\n",
        "    le = LabelEncoder()\n",
        "    le = le.fit(train[feature])\n",
        "    train[feature] = le.transform(train[feature])\n",
        "\n",
        "    # train데이터에서 존재하지 않았던 값이 test 데이터에 존재할 수도 있습니다.\n",
        "    # 따라서 test 데이터를 바로 변형시키지 않고 고유값을 확인후 test 데이터를 변환합니다.\n",
        "    # Data Leakage를 발생시키지 않기 위함이니, 반드시 주의해주세요.\n",
        "    for label in np.unique(test[feature]):\n",
        "        if label not in le.classes_:\n",
        "            le.classes_ = np.append(le.classes_, label)\n",
        "    test[feature] = le.transform(test[feature])"
      ]
    },
    {
      "cell_type": "code",
      "execution_count": 22,
      "metadata": {
        "colab": {
          "base_uri": "https://localhost:8080/",
          "height": 598
        },
        "id": "2F07dJdC-fUE",
        "outputId": "453d3280-0281-4254-e7f3-eb0e55b100e0"
      },
      "outputs": [
        {
          "name": "stdout",
          "output_type": "stream",
          "text": [
            "Checking whether there is an H2O instance running at http://localhost:54321. connected.\n"
          ]
        },
        {
          "data": {
            "text/html": [
              "\n",
              "<style>\n",
              "\n",
              "#h2o-table-5.h2o-container {\n",
              "  overflow-x: auto;\n",
              "}\n",
              "#h2o-table-5 .h2o-table {\n",
              "  /* width: 100%; */\n",
              "  margin-top: 1em;\n",
              "  margin-bottom: 1em;\n",
              "}\n",
              "#h2o-table-5 .h2o-table caption {\n",
              "  white-space: nowrap;\n",
              "  caption-side: top;\n",
              "  text-align: left;\n",
              "  /* margin-left: 1em; */\n",
              "  margin: 0;\n",
              "  font-size: larger;\n",
              "}\n",
              "#h2o-table-5 .h2o-table thead {\n",
              "  white-space: nowrap; \n",
              "  position: sticky;\n",
              "  top: 0;\n",
              "  box-shadow: 0 -1px inset;\n",
              "}\n",
              "#h2o-table-5 .h2o-table tbody {\n",
              "  overflow: auto;\n",
              "}\n",
              "#h2o-table-5 .h2o-table th,\n",
              "#h2o-table-5 .h2o-table td {\n",
              "  text-align: right;\n",
              "  /* border: 1px solid; */\n",
              "}\n",
              "#h2o-table-5 .h2o-table tr:nth-child(even) {\n",
              "  /* background: #F5F5F5 */\n",
              "}\n",
              "\n",
              "</style>      \n",
              "<div id=\"h2o-table-5\" class=\"h2o-container\">\n",
              "  <table class=\"h2o-table\">\n",
              "    <caption></caption>\n",
              "    <thead></thead>\n",
              "    <tbody><tr><td>H2O_cluster_uptime:</td>\n",
              "<td>1 hour 21 mins</td></tr>\n",
              "<tr><td>H2O_cluster_timezone:</td>\n",
              "<td>Asia/Seoul</td></tr>\n",
              "<tr><td>H2O_data_parsing_timezone:</td>\n",
              "<td>UTC</td></tr>\n",
              "<tr><td>H2O_cluster_version:</td>\n",
              "<td>3.40.0.4</td></tr>\n",
              "<tr><td>H2O_cluster_version_age:</td>\n",
              "<td>1 month and 17 days</td></tr>\n",
              "<tr><td>H2O_cluster_name:</td>\n",
              "<td>H2O_from_python_jjaegii_72nk7e</td></tr>\n",
              "<tr><td>H2O_cluster_total_nodes:</td>\n",
              "<td>1</td></tr>\n",
              "<tr><td>H2O_cluster_free_memory:</td>\n",
              "<td>1.457 Gb</td></tr>\n",
              "<tr><td>H2O_cluster_total_cores:</td>\n",
              "<td>12</td></tr>\n",
              "<tr><td>H2O_cluster_allowed_cores:</td>\n",
              "<td>12</td></tr>\n",
              "<tr><td>H2O_cluster_status:</td>\n",
              "<td>locked, healthy</td></tr>\n",
              "<tr><td>H2O_connection_url:</td>\n",
              "<td>http://localhost:54321</td></tr>\n",
              "<tr><td>H2O_connection_proxy:</td>\n",
              "<td>{\"http\": null, \"https\": null}</td></tr>\n",
              "<tr><td>H2O_internal_security:</td>\n",
              "<td>False</td></tr>\n",
              "<tr><td>Python_version:</td>\n",
              "<td>3.8.10 final</td></tr></tbody>\n",
              "  </table>\n",
              "</div>\n"
            ],
            "text/plain": [
              "--------------------------  ------------------------------\n",
              "H2O_cluster_uptime:         1 hour 21 mins\n",
              "H2O_cluster_timezone:       Asia/Seoul\n",
              "H2O_data_parsing_timezone:  UTC\n",
              "H2O_cluster_version:        3.40.0.4\n",
              "H2O_cluster_version_age:    1 month and 17 days\n",
              "H2O_cluster_name:           H2O_from_python_jjaegii_72nk7e\n",
              "H2O_cluster_total_nodes:    1\n",
              "H2O_cluster_free_memory:    1.457 Gb\n",
              "H2O_cluster_total_cores:    12\n",
              "H2O_cluster_allowed_cores:  12\n",
              "H2O_cluster_status:         locked, healthy\n",
              "H2O_connection_url:         http://localhost:54321\n",
              "H2O_connection_proxy:       {\"http\": null, \"https\": null}\n",
              "H2O_internal_security:      False\n",
              "Python_version:             3.8.10 final\n",
              "--------------------------  ------------------------------"
            ]
          },
          "metadata": {},
          "output_type": "display_data"
        },
        {
          "name": "stdout",
          "output_type": "stream",
          "text": [
            "Parse progress: |████████████████████████████████████████████████████████████████| (done) 100%\n"
          ]
        }
      ],
      "source": [
        "h2o.init()\n",
        "\n",
        "train = h2o.H2OFrame(train)\n",
        "x = train.columns\n",
        "y = \"가격\"\n",
        "x.remove(y)"
      ]
    },
    {
      "cell_type": "code",
      "execution_count": 23,
      "metadata": {
        "colab": {
          "base_uri": "https://localhost:8080/"
        },
        "id": "G8Qg9Zk5_Inn",
        "outputId": "aea502ae-fc99-4574-9e2f-4bd4fd6a8ead"
      },
      "outputs": [
        {
          "name": "stdout",
          "output_type": "stream",
          "text": [
            "AutoML progress: |"
          ]
        },
        {
          "name": "stdout",
          "output_type": "stream",
          "text": [
            "███████████████████████████████████████████████████████████████| (done) 100%\n",
            "model_id                                                    mae     rmse      mse       rmsle    mean_residual_deviance\n",
            "StackedEnsemble_AllModels_1_AutoML_2_20230615_13302     5.80048  8.95418  80.1773    0.180526                   80.1773\n",
            "StackedEnsemble_BestOfFamily_1_AutoML_2_20230615_13302  5.82179  8.99817  80.9671    0.181202                   80.9671\n",
            "GBM_4_AutoML_2_20230615_13302                           5.901    9.09433  82.7068    0.184238                   82.7068\n",
            "GBM_3_AutoML_2_20230615_13302                           5.95331  9.09871  82.7865    0.18552                    82.7865\n",
            "GBM_2_AutoML_2_20230615_13302                           5.98755  9.14741  83.6752    0.187097                   83.6752\n",
            "GBM_1_AutoML_2_20230615_13302                           6.02091  9.24814  85.528     0.188452                   85.528\n",
            "DRF_1_AutoML_2_20230615_13302                           6.11065  9.43902  89.0952    0.188947                   89.0952\n",
            "XGBoost_3_AutoML_2_20230615_13302                       6.20287  9.41645  88.6695  nan                          88.6695\n",
            "XGBoost_2_AutoML_2_20230615_13302                       6.31583  9.62378  92.6171    0.197999                   92.6171\n",
            "XRT_1_AutoML_2_20230615_13302                           6.39949  9.71096  94.3028    0.207916                   94.3028\n",
            "[10 rows x 6 columns]\n",
            "\n"
          ]
        }
      ],
      "source": [
        "from h2o.automl import H2OAutoML\n",
        "\n",
        "aml = H2OAutoML(\n",
        "    max_models=10,\n",
        "    seed=42,\n",
        "    # max_runtime_secs=360,\n",
        "    sort_metric='MAE'\n",
        ")\n",
        "\n",
        "aml.train(\n",
        "    x=x,\n",
        "    y=y,\n",
        "    training_frame=train\n",
        ")\n",
        "\n",
        "leaderboard = aml.leaderboard\n",
        "print(leaderboard.head())"
      ]
    },
    {
      "cell_type": "code",
      "execution_count": 24,
      "metadata": {
        "id": "T-xKVbEJ_Ztd"
      },
      "outputs": [],
      "source": [
        "# 모델 저장\n",
        "model_path = h2o.save_model(model=aml.leader, path=\"model/LabelEncoder\", force=True)"
      ]
    },
    {
      "cell_type": "code",
      "execution_count": 25,
      "metadata": {},
      "outputs": [],
      "source": [
        "# 모델 로드\n",
        "model = h2o.load_model(path=model_path)"
      ]
    },
    {
      "attachments": {},
      "cell_type": "markdown",
      "metadata": {},
      "source": [
        "### Leader model의 요약 정보와 파라미터 출력"
      ]
    },
    {
      "cell_type": "code",
      "execution_count": 31,
      "metadata": {
        "colab": {
          "base_uri": "https://localhost:8080/"
        },
        "id": "i1kR1_7NCMPw",
        "outputId": "9047b193-4371-44c8-9fd8-a8bd7406822a"
      },
      "outputs": [
        {
          "name": "stdout",
          "output_type": "stream",
          "text": [
            "Parse progress: |████████████████████████████████████████████████████████████████| (done) 100%\n",
            "stackedensemble prediction progress: |███████████████████████████████████████████| (done) 100%\n"
          ]
        }
      ],
      "source": [
        "test = h2o.H2OFrame(test)\n",
        "pred = model.predict(test)"
      ]
    },
    {
      "cell_type": "code",
      "execution_count": 32,
      "metadata": {},
      "outputs": [],
      "source": [
        "pred_df = pd.DataFrame(pred.as_data_frame())"
      ]
    },
    {
      "cell_type": "code",
      "execution_count": 33,
      "metadata": {
        "id": "TpBNEh3-COAj"
      },
      "outputs": [],
      "source": [
        "import pandas as pd\n",
        "\n",
        "submission = pd.read_csv('sample_submission.csv')\n",
        "submission['가격'] = pred_df\n",
        "submission.to_csv('submit/H2O_submit_LabelEncoder.csv', index = False)"
      ]
    }
  ],
  "metadata": {
    "accelerator": "GPU",
    "colab": {
      "gpuType": "V100",
      "provenance": []
    },
    "kernelspec": {
      "display_name": "Python 3",
      "name": "python3"
    },
    "language_info": {
      "codemirror_mode": {
        "name": "ipython",
        "version": 3
      },
      "file_extension": ".py",
      "mimetype": "text/x-python",
      "name": "python",
      "nbconvert_exporter": "python",
      "pygments_lexer": "ipython3",
      "version": "3.8.10"
    }
  },
  "nbformat": 4,
  "nbformat_minor": 0
}
