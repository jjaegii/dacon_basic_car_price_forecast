{
  "cells": [
    {
      "attachments": {},
      "cell_type": "markdown",
      "metadata": {},
      "source": [
        "reference : https://dacon.io/competitions/official/236093/codeshare/8182?page=1&dtype=recent"
      ]
    },
    {
      "cell_type": "code",
      "execution_count": 8,
      "metadata": {},
      "outputs": [],
      "source": [
        "import h2o\n",
        "import pandas as pd"
      ]
    },
    {
      "cell_type": "code",
      "execution_count": 1,
      "metadata": {
        "colab": {
          "base_uri": "https://localhost:8080/",
          "height": 598
        },
        "id": "2F07dJdC-fUE",
        "outputId": "453d3280-0281-4254-e7f3-eb0e55b100e0"
      },
      "outputs": [
        {
          "name": "stdout",
          "output_type": "stream",
          "text": [
            "Checking whether there is an H2O instance running at http://localhost:54321..... not found.\n",
            "Attempting to start a local H2O server...\n",
            "  Java Version: openjdk version \"11.0.19\" 2023-04-18; OpenJDK Runtime Environment (build 11.0.19+7-post-Ubuntu-0ubuntu120.04.1); OpenJDK 64-Bit Server VM (build 11.0.19+7-post-Ubuntu-0ubuntu120.04.1, mixed mode, sharing)\n",
            "  Starting server from /home/jjaegii/dacon/venv/lib/python3.8/site-packages/h2o/backend/bin/h2o.jar\n",
            "  Ice root: /tmp/tmpv1e59gc3\n",
            "  JVM stdout: /tmp/tmpv1e59gc3/h2o_jjaegii_started_from_python.out\n",
            "  JVM stderr: /tmp/tmpv1e59gc3/h2o_jjaegii_started_from_python.err\n",
            "  Server is running at http://127.0.0.1:54321\n",
            "Connecting to H2O server at http://127.0.0.1:54321 ... successful.\n"
          ]
        },
        {
          "data": {
            "text/html": [
              "\n",
              "<style>\n",
              "\n",
              "#h2o-table-1.h2o-container {\n",
              "  overflow-x: auto;\n",
              "}\n",
              "#h2o-table-1 .h2o-table {\n",
              "  /* width: 100%; */\n",
              "  margin-top: 1em;\n",
              "  margin-bottom: 1em;\n",
              "}\n",
              "#h2o-table-1 .h2o-table caption {\n",
              "  white-space: nowrap;\n",
              "  caption-side: top;\n",
              "  text-align: left;\n",
              "  /* margin-left: 1em; */\n",
              "  margin: 0;\n",
              "  font-size: larger;\n",
              "}\n",
              "#h2o-table-1 .h2o-table thead {\n",
              "  white-space: nowrap; \n",
              "  position: sticky;\n",
              "  top: 0;\n",
              "  box-shadow: 0 -1px inset;\n",
              "}\n",
              "#h2o-table-1 .h2o-table tbody {\n",
              "  overflow: auto;\n",
              "}\n",
              "#h2o-table-1 .h2o-table th,\n",
              "#h2o-table-1 .h2o-table td {\n",
              "  text-align: right;\n",
              "  /* border: 1px solid; */\n",
              "}\n",
              "#h2o-table-1 .h2o-table tr:nth-child(even) {\n",
              "  /* background: #F5F5F5 */\n",
              "}\n",
              "\n",
              "</style>      \n",
              "<div id=\"h2o-table-1\" class=\"h2o-container\">\n",
              "  <table class=\"h2o-table\">\n",
              "    <caption></caption>\n",
              "    <thead></thead>\n",
              "    <tbody><tr><td>H2O_cluster_uptime:</td>\n",
              "<td>01 secs</td></tr>\n",
              "<tr><td>H2O_cluster_timezone:</td>\n",
              "<td>Asia/Seoul</td></tr>\n",
              "<tr><td>H2O_data_parsing_timezone:</td>\n",
              "<td>UTC</td></tr>\n",
              "<tr><td>H2O_cluster_version:</td>\n",
              "<td>3.40.0.4</td></tr>\n",
              "<tr><td>H2O_cluster_version_age:</td>\n",
              "<td>1 month and 16 days</td></tr>\n",
              "<tr><td>H2O_cluster_name:</td>\n",
              "<td>H2O_from_python_jjaegii_3ounxn</td></tr>\n",
              "<tr><td>H2O_cluster_total_nodes:</td>\n",
              "<td>1</td></tr>\n",
              "<tr><td>H2O_cluster_free_memory:</td>\n",
              "<td>1.861 Gb</td></tr>\n",
              "<tr><td>H2O_cluster_total_cores:</td>\n",
              "<td>12</td></tr>\n",
              "<tr><td>H2O_cluster_allowed_cores:</td>\n",
              "<td>12</td></tr>\n",
              "<tr><td>H2O_cluster_status:</td>\n",
              "<td>locked, healthy</td></tr>\n",
              "<tr><td>H2O_connection_url:</td>\n",
              "<td>http://127.0.0.1:54321</td></tr>\n",
              "<tr><td>H2O_connection_proxy:</td>\n",
              "<td>{\"http\": null, \"https\": null}</td></tr>\n",
              "<tr><td>H2O_internal_security:</td>\n",
              "<td>False</td></tr>\n",
              "<tr><td>Python_version:</td>\n",
              "<td>3.8.10 final</td></tr></tbody>\n",
              "  </table>\n",
              "</div>\n"
            ],
            "text/plain": [
              "--------------------------  ------------------------------\n",
              "H2O_cluster_uptime:         01 secs\n",
              "H2O_cluster_timezone:       Asia/Seoul\n",
              "H2O_data_parsing_timezone:  UTC\n",
              "H2O_cluster_version:        3.40.0.4\n",
              "H2O_cluster_version_age:    1 month and 16 days\n",
              "H2O_cluster_name:           H2O_from_python_jjaegii_3ounxn\n",
              "H2O_cluster_total_nodes:    1\n",
              "H2O_cluster_free_memory:    1.861 Gb\n",
              "H2O_cluster_total_cores:    12\n",
              "H2O_cluster_allowed_cores:  12\n",
              "H2O_cluster_status:         locked, healthy\n",
              "H2O_connection_url:         http://127.0.0.1:54321\n",
              "H2O_connection_proxy:       {\"http\": null, \"https\": null}\n",
              "H2O_internal_security:      False\n",
              "Python_version:             3.8.10 final\n",
              "--------------------------  ------------------------------"
            ]
          },
          "metadata": {},
          "output_type": "display_data"
        },
        {
          "name": "stdout",
          "output_type": "stream",
          "text": [
            "Parse progress: |████████████████████████████████████████████████████████████████| (done) 100%\n",
            "Parse progress: |████████████████████████████████████████████████████████████████| (done) 100%\n"
          ]
        }
      ],
      "source": [
        "h2o.init()\n",
        "\n",
        "train = h2o.import_file('train.csv')"
      ]
    },
    {
      "cell_type": "code",
      "execution_count": 2,
      "metadata": {
        "id": "HxqkGred-4b0"
      },
      "outputs": [],
      "source": [
        "x = train.columns\n",
        "y = \"가격\"\n",
        "x.remove(y)"
      ]
    },
    {
      "cell_type": "code",
      "execution_count": 3,
      "metadata": {
        "colab": {
          "base_uri": "https://localhost:8080/"
        },
        "id": "G8Qg9Zk5_Inn",
        "outputId": "aea502ae-fc99-4574-9e2f-4bd4fd6a8ead"
      },
      "outputs": [
        {
          "name": "stdout",
          "output_type": "stream",
          "text": [
            "AutoML progress: |\n",
            "02:00:07.524: _train param, Dropping bad and constant columns: [ID]\n",
            "\n",
            "██\n",
            "02:00:42.113: _train param, Dropping bad and constant columns: [ID]\n",
            "\n",
            "██\n",
            "02:00:56.126: _train param, Dropping bad and constant columns: [ID]\n",
            "\n",
            "█\n",
            "02:01:34.769: _train param, Dropping bad and constant columns: [ID]\n",
            "\n",
            "███\n",
            "02:02:03.536: _train param, Dropping bad and constant columns: [ID]\n",
            "\n",
            "██████████████████████████████████████\n",
            "02:10:04.781: _train param, Dropping bad and constant columns: [ID]\n",
            "\n",
            "\n",
            "02:10:17.744: _train param, Dropping bad and constant columns: [ID]\n",
            "\n",
            "█\n",
            "02:10:33.4: _train param, Dropping bad and constant columns: [ID]\n",
            "\n",
            "\n",
            "02:10:57.421: _train param, Dropping bad and constant columns: [ID]\n",
            "\n",
            "██\n",
            "02:11:39.511: _train param, Dropping bad and constant columns: [ID]\n",
            "\n",
            "████████\n",
            "02:18:45.186: _train param, Dropping unused columns: [ID]\n",
            "\n",
            "█\n",
            "02:18:47.245: _train param, Dropping unused columns: [ID]\n",
            "\n",
            "█████| (done) 100%\n",
            "model_id                                                    mae     rmse      mse       rmsle    mean_residual_deviance\n",
            "StackedEnsemble_AllModels_1_AutoML_1_20230614_20007     5.64265  8.75311  76.6169    0.176313                   76.6169\n",
            "StackedEnsemble_BestOfFamily_1_AutoML_1_20230614_20007  5.67226  8.80069  77.4522    0.176814                   77.4522\n",
            "GBM_3_AutoML_1_20230614_20007                           5.76363  8.92009  79.5679    0.180366                   79.5679\n",
            "GBM_4_AutoML_1_20230614_20007                           5.77073  8.97436  80.5392    0.17981                    80.5392\n",
            "GBM_2_AutoML_1_20230614_20007                           5.79324  8.94679  80.045     0.181204                   80.045\n",
            "GBM_1_AutoML_1_20230614_20007                           5.83384  9.03006  81.542     0.184457                   81.542\n",
            "DRF_1_AutoML_1_20230614_20007                           5.90083  9.1958   84.5627    0.18289                    84.5627\n",
            "XGBoost_1_AutoML_1_20230614_20007                       6.14224  9.36325  87.6704    0.191575                   87.6704\n",
            "XGBoost_2_AutoML_1_20230614_20007                       6.1938   9.40251  88.4072    0.194508                   88.4072\n",
            "XGBoost_3_AutoML_1_20230614_20007                       6.22776  9.36974  87.7921  nan                          87.7921\n",
            "[10 rows x 6 columns]\n",
            "\n"
          ]
        }
      ],
      "source": [
        "from h2o.automl import H2OAutoML\n",
        "\n",
        "aml = H2OAutoML(\n",
        "    max_models=10,\n",
        "    seed=42,\n",
        "    # max_runtime_secs=360,\n",
        "    sort_metric='MAE'\n",
        ")\n",
        "\n",
        "aml.train(\n",
        "    x=x,\n",
        "    y=y,\n",
        "    training_frame=train\n",
        ")\n",
        "\n",
        "leaderboard = aml.leaderboard\n",
        "print(leaderboard.head())"
      ]
    },
    {
      "attachments": {},
      "cell_type": "markdown",
      "metadata": {
        "id": "KzAFWTlcD9Lk"
      },
      "source": [
        "현재 가장 낮은 MAE 값은 5.83384"
      ]
    },
    {
      "cell_type": "code",
      "execution_count": 4,
      "metadata": {
        "id": "T-xKVbEJ_Ztd"
      },
      "outputs": [],
      "source": [
        "model = aml.leader"
      ]
    },
    {
      "cell_type": "code",
      "execution_count": 5,
      "metadata": {
        "colab": {
          "base_uri": "https://localhost:8080/"
        },
        "id": "i1kR1_7NCMPw",
        "outputId": "9047b193-4371-44c8-9fd8-a8bd7406822a"
      },
      "outputs": [
        {
          "name": "stdout",
          "output_type": "stream",
          "text": [
            "stackedensemble prediction progress: |"
          ]
        },
        {
          "name": "stdout",
          "output_type": "stream",
          "text": [
            "███████████████████████████████████████████| (done) 100%\n"
          ]
        },
        {
          "name": "stderr",
          "output_type": "stream",
          "text": [
            "/home/jjaegii/dacon/venv/lib/python3.8/site-packages/h2o/job.py:83: UserWarning: Test/Validation dataset column '판매도시' has levels not trained on: [\"AAI\", \"AGG\", \"AJB\", \"AJM\", \"AXK\", \"AZD\", \"BJC\", \"BOI\", \"BRV\", \"BSR\", ...280 not listed..., \"ZLI\", \"ZNE\", \"ZOH\", \"ZPO\", \"ZRL\", \"ZTU\", \"ZVM\", \"ZXL\", \"ZYG\", \"ZZF\"]\n",
            "  warnings.warn(w)\n"
          ]
        }
      ],
      "source": [
        "test = h2o.import_file('test.csv')\n",
        "\n",
        "pred = model.predict(test)"
      ]
    },
    {
      "cell_type": "code",
      "execution_count": 9,
      "metadata": {},
      "outputs": [],
      "source": [
        "pred_df = pd.DataFrame(pred.as_data_frame())"
      ]
    },
    {
      "cell_type": "code",
      "execution_count": 11,
      "metadata": {
        "id": "TpBNEh3-COAj"
      },
      "outputs": [],
      "source": [
        "import pandas as pd\n",
        "\n",
        "submission = pd.read_csv('sample_submission.csv')\n",
        "submission['가격'] = pred_df\n",
        "submission.to_csv('H2O_submit.csv', index = False)"
      ]
    }
  ],
  "metadata": {
    "accelerator": "GPU",
    "colab": {
      "gpuType": "V100",
      "provenance": []
    },
    "kernelspec": {
      "display_name": "Python 3",
      "name": "python3"
    },
    "language_info": {
      "codemirror_mode": {
        "name": "ipython",
        "version": 3
      },
      "file_extension": ".py",
      "mimetype": "text/x-python",
      "name": "python",
      "nbconvert_exporter": "python",
      "pygments_lexer": "ipython3",
      "version": "3.8.10"
    }
  },
  "nbformat": 4,
  "nbformat_minor": 0
}
